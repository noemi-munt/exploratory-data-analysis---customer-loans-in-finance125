{
 "cells": [
  {
   "cell_type": "markdown",
   "metadata": {},
   "source": [
    "# Full loans dataset schema\n",
    "\n",
    "- **id**: unique id of the loan\n",
    "- **member_id**: id of the member to took out the loan\n",
    "- **loan_amount**: amount of loan the applicant received\n",
    "- **funded_amount**: The total amount committed to the loan at the point in time \n",
    "- **funded_amount_inv**: The total amount committed by investors for that loan at that point in time \n",
    "- **term**: The number of monthly payments for the loan\n",
    "- **int_rate**: Interest rate on the loan\n",
    "- **instalment**: The monthly payment owned by the borrower\n",
    "- **grade**: LC assigned loan grade\n",
    "- **sub_grade**: LC assigned loan sub grade\n",
    "- **employment_length**: Employment length in years.\n",
    "- **home_ownership**: The home ownership status provided by the borrower\n",
    "- **annual_inc**: The annual income of the borrower\n",
    "- **verification_status**: Indicates whether the borrowers income was verified by the LC or the income source was verified\n",
    "- **issue_date:** Issue date of the loan\n",
    "- **loan_status**: Current status of the loan\n",
    "- **payment_plan**: Indicates if a payment plan is in place for the loan. Indication borrower is struggling to pay.\n",
    "- **purpose**: A category provided by the borrower for the loan request.\n",
    "- **dti**: A ratio calculated using the borrower's total monthly debt payments on the total debt obligations, excluding mortgage and the requested LC loan, divided by the borrower's self-reported monthly income.\n",
    "- **delinq_2yr**: The number of 30+ days past-due payment in the borrower's credit file for the past 2 years.\n",
    "- **earliest_credit_line**: The month the borrower's earliest reported credit line was opened\n",
    "- **inq_last_6mths**: The number of inquiries in past 6 months (excluding auto and mortgage inquiries)\n",
    "- **mths_since_last_record**: The number of months since the last public record.\n",
    "- **open_accounts**: The number of open credit lines in the borrower's credit file.\n",
    "- **total_accounts**: The total number of credit lines currently in the borrower's credit file\n",
    "- **out_prncp**: Remaining outstanding principal for total amount funded\n",
    "- **out_prncp_inv**: Remaining outstanding principal for portion of total amount funded by investors\n",
    "- **total_payment**: Payments received to date for total amount funded\n",
    "- **total_rec_int**: Interest received to date\n",
    "- **total_rec_late_fee**: Late fees received to date\n",
    "- **recoveries**: post charge off gross recovery\n",
    "- **collection_recovery_fee**: post charge off collection fee\n",
    "- **last_payment_date**: Last month payment was received\n",
    "- **last_payment_amount**: Last total payment amount received\n",
    "- **next_payment_date**: Next scheduled payment date\n",
    "- **last_credit_pull_date**: The most recent month LC pulled credit for this loan\n",
    "- **collections_12_mths_ex_med**: Number of collections in 12 months excluding medical collections\n",
    "- **mths_since_last_major_derog**: Months since most recent 90-day or worse rating\n",
    "- **policy_code**: publicly available policy_code=1 new products not publicly available policy_code=2\n",
    "- **application_type**: Indicates whether the loan is an individual application or a joint application with two co-borrowers"
   ]
  }
 ],
 "metadata": {
  "language_info": {
   "name": "python"
  }
 },
 "nbformat": 4,
 "nbformat_minor": 2
}
